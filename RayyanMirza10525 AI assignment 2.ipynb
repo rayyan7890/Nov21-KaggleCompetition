{
  "nbformat": 4,
  "nbformat_minor": 0,
  "metadata": {
    "colab": {
      "name": "Untitled0.ipynb",
      "provenance": [],
      "authorship_tag": "ABX9TyOAhnZFnxCmjQOK3x5BzU/e",
      "include_colab_link": true
    },
    "kernelspec": {
      "name": "python3",
      "display_name": "Python 3"
    },
    "language_info": {
      "name": "python"
    }
  },
  "cells": [
    {
      "cell_type": "markdown",
      "metadata": {
        "id": "view-in-github",
        "colab_type": "text"
      },
      "source": [
        "<a href=\"https://colab.research.google.com/github/rayyan7890/Nov21-KaggleCompetition/blob/main/RayyanMirza10525%20AI%20assignment%202.ipynb\" target=\"_parent\"><img src=\"https://colab.research.google.com/assets/colab-badge.svg\" alt=\"Open In Colab\"/></a>"
      ]
    },
    {
      "cell_type": "code",
      "metadata": {
        "id": "Sj9NGxXEl9MO"
      },
      "source": [
        "from google.colab import drive\n",
        "drive.mount('/content/drive')"
      ],
      "execution_count": null,
      "outputs": []
    },
    {
      "cell_type": "code",
      "metadata": {
        "id": "Uq-_vdj9l_Od",
        "colab": {
          "base_uri": "https://localhost:8080/"
        },
        "outputId": "b66378ea-321a-414b-98b7-a5679be0a9ba"
      },
      "source": [
        "import pandas as pd\n",
        "import numpy as np\n",
        "import random\n",
        "\n",
        "df = pd.read_csv(r'/content/drive/MyDrive/test.csv')\n",
        "#print(df)\n",
        "\n",
        "df['Random Number Columns'] = np.random.uniform(0,1, df.shape[0])\n",
        "#print(df)\n",
        "\n",
        "df['target'] = [1 if x >= 0.5 else 0 for x in df['Random Number Columns']]\n",
        "#print(df)\n",
        "\n",
        "new_df = df[['id','target']].copy()\n",
        "print(new_df)\n",
        "\n",
        "new_df.to_csv('/content/drive/MyDrive/RayyanMirza10525.csv')"
      ],
      "execution_count": 1,
      "outputs": [
        {
          "output_type": "stream",
          "name": "stdout",
          "text": [
            "             id  target\n",
            "0        600000       0\n",
            "1        600001       0\n",
            "2        600002       1\n",
            "3        600003       1\n",
            "4        600004       1\n",
            "...         ...     ...\n",
            "539995  1139995       1\n",
            "539996  1139996       0\n",
            "539997  1139997       0\n",
            "539998  1139998       0\n",
            "539999  1139999       1\n",
            "\n",
            "[540000 rows x 2 columns]\n"
          ]
        }
      ]
    }
  ]
}